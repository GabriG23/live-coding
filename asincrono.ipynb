{
 "cells": [
  {
   "cell_type": "code",
   "execution_count": 2,
   "id": "956a32d6",
   "metadata": {},
   "outputs": [
    {
     "name": "stdout",
     "output_type": "stream",
     "text": [
      "ciao\n"
     ]
    }
   ],
   "source": [
    "print(\"ciao\")"
   ]
  },
  {
   "cell_type": "code",
   "execution_count": null,
   "id": "784f0723",
   "metadata": {},
   "outputs": [
    {
     "name": "stdout",
     "output_type": "stream",
     "text": [
      "elabora richiesta\n",
      "elabora richiesta\n",
      "elabora richiesta\n",
      "http://www.google.com\n",
      "http://www.facebook.com\n",
      "http://www.agmsolutions.net\n"
     ]
    }
   ],
   "source": [
    "# python ha coroutine: generatore (yield), native - asyncio\n",
    "import asyncio\n",
    "\n",
    "async def elabora_url(url):\n",
    "    print(\"elabora richiesta\")\n",
    "    await asyncio.sleep(1)\n",
    "    print(f\"{url}\")\n",
    "\n",
    "async def richieste():\n",
    "    urls = ['http://www.google.com', 'http://www.facebook.com', 'http://www.agmsolutions.net']\n",
    "    # tasks = []\n",
    "    # for url in urls:\n",
    "    #     task = await asyncio.create_task(elabora_url(url))\n",
    "    #     tasks.append(task)\n",
    "    tasks = [asyncio.create_task(elabora_url(url)) for url in urls]\n",
    "    \n",
    "    await asyncio.gather(*tasks) # tasks, (task1, task2, task3 ...)\n",
    "\n",
    "await richieste()\n",
    "\n"
   ]
  },
  {
   "cell_type": "code",
   "execution_count": 9,
   "id": "7a0acd4a",
   "metadata": {},
   "outputs": [
    {
     "name": "stdout",
     "output_type": "stream",
     "text": [
      "Prendo l'oggetto palla dalla coda\n",
      "Elaboro l'oggetto palla...\n",
      "L'oggetto palla è stato elaborato con successo!\n",
      "Prendo l'oggetto libro dalla coda\n",
      "Elaboro l'oggetto libro...\n",
      "L'oggetto libro è stato elaborato con successo!\n",
      "Prendo l'oggetto tazza dalla coda\n",
      "Elaboro l'oggetto tazza...\n",
      "L'oggetto tazza è stato elaborato con successo!\n",
      "Prendo l'oggetto chiave dalla coda\n",
      "Elaboro l'oggetto chiave...\n",
      "L'oggetto chiave è stato elaborato con successo!\n",
      "Prendo l'oggetto telefono dalla coda\n",
      "Elaboro l'oggetto telefono...\n",
      "L'oggetto telefono è stato elaborato con successo!\n"
     ]
    }
   ],
   "source": [
    "import asyncio\n",
    "\n",
    "async def get_item(q):\n",
    "    while True:\n",
    "        try:\n",
    "            item = q.pop(0)\n",
    "            print(f\"Prendo l'oggetto {item} dalla coda\")\n",
    "            await asyncio.sleep(1)\n",
    "            yield item\n",
    "        except IndexError:\n",
    "            print(\"La coda è vuota, aspettando che venga aggiunto un altro oggetto...\")\n",
    "            await asyncio.sleep(2)\n",
    "\n",
    "async def process_item(item):\n",
    "    print(f\"Elaboro l'oggetto {item}...\")\n",
    "    await asyncio.sleep(3)\n",
    "    print(f\"L'oggetto {item} è stato elaborato con successo!\")\n",
    "\n",
    "async def main():\n",
    "    q = [\"palla\", \"libro\", \"tazza\", \"chiave\", \"telefono\"]\n",
    "    item_gen = get_item(q)\n",
    "    tasks = []\n",
    "    for i in range(len(q)):\n",
    "        task = asyncio.create_task(process_item(await item_gen.__anext__()))\n",
    "        tasks.append(task)\n",
    "        await asyncio.gather(*tasks)\n",
    "# asyncio.run(main())\n",
    "await main()"
   ]
  }
 ],
 "metadata": {
  "kernelspec": {
   "display_name": "Python 3",
   "language": "python",
   "name": "python3"
  },
  "language_info": {
   "codemirror_mode": {
    "name": "ipython",
    "version": 3
   },
   "file_extension": ".py",
   "mimetype": "text/x-python",
   "name": "python",
   "nbconvert_exporter": "python",
   "pygments_lexer": "ipython3",
   "version": "3.11.9"
  }
 },
 "nbformat": 4,
 "nbformat_minor": 5
}
